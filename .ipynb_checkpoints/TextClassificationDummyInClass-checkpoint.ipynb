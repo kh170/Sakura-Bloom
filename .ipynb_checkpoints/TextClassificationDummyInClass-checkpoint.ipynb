{
 "cells": [
  {
   "cell_type": "code",
   "execution_count": 5,
   "metadata": {
    "collapsed": true
   },
   "outputs": [],
   "source": [
    "from setuptools.command.test import test\n",
    "from sklearn import tree\n",
    "from sklearn.datasets import *\n",
    "from sklearn.model_selection import train_test_split\n",
    "from sklearn.metrics import accuracy_score\n",
    "from sklearn import neighbors\n",
    "import numpy as np\n",
    "import matplotlib.pyplot as plt\n",
    "from sklearn.datasets import fetch_20newsgroups\n",
    "\n",
    "trainDocs = [\"Hulk like fire\",\n",
    "          \"Thor like water\",\n",
    "          \"Hulk like raging fire\",\n",
    "          \"Thor like smoldering fire\",\n",
    "          \"Batman like everything dark\"]\n",
    "\n",
    "trainDocs = [\"Hulk like fire fire\",\"Thor like water\"]\n",
    "ClassNames = [\"Hulk\",\"Thor\"]\n",
    "YTrain = [0,1]\n",
    "\n",
    "testDocs = [\"Hulk Smash!\",\"Thor beat Loki\"]\n",
    "YTest = [0,1]"
   ]
  },
  {
   "cell_type": "code",
   "execution_count": 8,
   "metadata": {
    "collapsed": false
   },
   "outputs": [
    {
     "name": "stdout",
     "output_type": "stream",
     "text": [
      "(2, 5)\n   fire  hulk  like  thor  water\n0     2     1     1     0      0\n1     0     0     1     1      1\nNone\n3\n   fire  hulk  like  thor  water\n0     0     0     0     1      0\n"
     ]
    }
   ],
   "source": [
    "from sklearn.feature_extraction.text import CountVectorizer\n",
    "from pandas import DataFrame\n",
    "vectorizer = CountVectorizer()\n",
    "XTrainCounts = vectorizer.fit_transform(trainDocs)\n",
    "print (XTrainCounts.shape)\n",
    "print(DataFrame(XTrainCounts.A,columns=vectorizer.get_feature_names()).to_string())\n",
    "\n",
    "print(vectorizer.vocabulary_.get('Thor'))# returns the index \n",
    "print(vectorizer.vocabulary_.get('thor'))# returns the index\n",
    "\n",
    "dummy = [\"Something about Thor\"]\n",
    "dvect = vectorizer.transform(dummy)\n",
    "print(DataFrame(dvect.A,columns=vectorizer.get_feature_names()).to_string())\n"
   ]
  },
  {
   "cell_type": "code",
   "execution_count": 61,
   "metadata": {
    "collapsed": false
   },
   "outputs": [
    {
     "name": "stdout",
     "output_type": "stream",
     "text": [
      "(2, 5)\n       fire      hulk      like      thor     water\n0  0.333333  0.333333  0.333333  0.000000  0.000000\n1  0.000000  0.000000  0.333333  0.333333  0.333333\n   fire  hulk  like  thor  water\n0   0.0   0.0   0.0   1.0    0.0\n"
     ]
    }
   ],
   "source": [
    "from sklearn.feature_extraction.text import TfidfTransformer\n",
    "tfVectorizer = TfidfTransformer(use_idf=False, norm='l1')\n",
    "XTrainTf = tfVectorizer.fit_transform(XTrainCounts)\n",
    "\n",
    "print (XTrainTf.shape)\n",
    "print(DataFrame(XTrainTf.A,columns=vectorizer.get_feature_names()).to_string())\n",
    "\n",
    "dummy = [\"Something about Thor THor\"]\n",
    "dvect = tfVectorizer.transform(vectorizer.transform(dummy))\n",
    "print(DataFrame(dvect.A,columns=vectorizer.get_feature_names()).to_string())"
   ]
  },
  {
   "cell_type": "code",
   "execution_count": null,
   "metadata": {},
   "outputs": [],
   "source": []
  },
  {
   "cell_type": "code",
   "execution_count": null,
   "metadata": {},
   "outputs": [],
   "source": []
  },
  {
   "cell_type": "code",
   "execution_count": 10,
   "metadata": {
    "collapsed": false
   },
   "outputs": [
    {
     "name": "stdout",
     "output_type": "stream",
     "text": [
      "(2, 5)\n       fire     hulk      like      thor     water\n0  0.852319  0.42616  0.303216  0.000000  0.000000\n1  0.000000  0.00000  0.449436  0.631667  0.631667\n   fire  hulk  like  thor  water\n0   0.0   0.0   0.0   1.0    0.0\n"
     ]
    }
   ],
   "source": [
    "from sklearn.feature_extraction.text import TfidfVectorizer\n",
    "tfidfVectorizer = TfidfVectorizer()\n",
    "XTrainTfIdf = tfidfVectorizer.fit_transform(trainDocs)\n",
    "\n",
    "print (XTrainTfIdf.shape)\n",
    "print(DataFrame(XTrainTfIdf.A,columns=tfidfVectorizer.get_feature_names()).to_string())\n",
    "\n",
    "\n",
    "dummy = [\"Something about Thor\"]\n",
    "dvect = tfidfVectorizer.transform(dummy)\n",
    "print(DataFrame(dvect.A,columns=tfidfVectorizer.get_feature_names()).to_string())"
   ]
  },
  {
   "cell_type": "code",
   "execution_count": 104,
   "metadata": {},
   "outputs": [
    {
     "name": "stdout",
     "output_type": "stream",
     "text": [
      "[0 1 1]\n['Hulk', 'Thor', 'Thor']\n"
     ]
    }
   ],
   "source": [
    "from sklearn.naive_bayes import MultinomialNB\n",
    "clf = MultinomialNB().fit(XTrainTfIdf, YTrain)\n",
    "\n",
    "XTest = tfidfVectorizer.transform(testDocs)\n",
    "pred = clf.predict(XTest)\n",
    "print(pred)\n",
    "testLabels = [ClassNames[i] for i in pred]\n",
    "print(testLabels)"
   ]
  },
  {
   "cell_type": "code",
   "execution_count": 105,
   "metadata": {},
   "outputs": [],
   "source": []
  },
  {
   "cell_type": "code",
   "execution_count": null,
   "metadata": {},
   "outputs": [],
   "source": []
  }
 ],
 "metadata": {
  "kernelspec": {
   "display_name": "Python 2",
   "language": "python",
   "name": "python2"
  },
  "language_info": {
   "codemirror_mode": {
    "name": "ipython",
    "version": 2
   },
   "file_extension": ".py",
   "mimetype": "text/x-python",
   "name": "python",
   "nbconvert_exporter": "python",
   "pygments_lexer": "ipython2",
   "version": "2.7.6"
  }
 },
 "nbformat": 4,
 "nbformat_minor": 0
}
